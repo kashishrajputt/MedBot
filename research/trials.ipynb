{
 "cells": [
  {
   "cell_type": "code",
   "execution_count": 1,
   "id": "fb93133d",
   "metadata": {},
   "outputs": [
    {
     "data": {
      "text/plain": [
       "'c:\\\\Users\\\\Dell\\\\genAI Projects\\\\MedBot\\\\research'"
      ]
     },
     "execution_count": 1,
     "metadata": {},
     "output_type": "execute_result"
    }
   ],
   "source": [
    "%pwd"
   ]
  },
  {
   "cell_type": "code",
   "execution_count": 2,
   "id": "02b06ebf",
   "metadata": {},
   "outputs": [],
   "source": [
    "import os \n",
    "os.chdir(\"../\")"
   ]
  },
  {
   "cell_type": "code",
   "execution_count": 3,
   "id": "f98ab33a",
   "metadata": {},
   "outputs": [
    {
     "data": {
      "text/plain": [
       "'c:\\\\Users\\\\Dell\\\\genAI Projects\\\\MedBot'"
      ]
     },
     "execution_count": 3,
     "metadata": {},
     "output_type": "execute_result"
    }
   ],
   "source": [
    "%pwd"
   ]
  },
  {
   "cell_type": "code",
   "execution_count": 4,
   "id": "4f48aab3",
   "metadata": {},
   "outputs": [],
   "source": [
    "from langchain.document_loaders import PyPDFLoader, DirectoryLoader\n",
    "from langchain.text_splitter import RecursiveCharacterTextSplitter"
   ]
  },
  {
   "cell_type": "code",
   "execution_count": 5,
   "id": "77a9f8c5",
   "metadata": {},
   "outputs": [],
   "source": [
    "# extract data from pdf\n",
    "def load_pdf_file(data):\n",
    "    loader = DirectoryLoader(data,\n",
    "                             glob=\"*.pdf\",\n",
    "                             loader_cls=PyPDFLoader)\n",
    "    \n",
    "    documents = loader.load()\n",
    "\n",
    "    return documents"
   ]
  },
  {
   "cell_type": "code",
   "execution_count": 6,
   "id": "2dfd226e",
   "metadata": {},
   "outputs": [],
   "source": [
    "extracted_data = load_pdf_file(data='Data')"
   ]
  },
  {
   "cell_type": "code",
   "execution_count": 7,
   "id": "01bcf2e7",
   "metadata": {},
   "outputs": [],
   "source": [
    "#extracted_data"
   ]
  },
  {
   "cell_type": "code",
   "execution_count": 8,
   "id": "313a8130",
   "metadata": {},
   "outputs": [],
   "source": [
    "#splitting data into chunks\n",
    "\n",
    "def text_split(extracted_data):\n",
    "    text_splitter = RecursiveCharacterTextSplitter(chunk_size=500, chunk_overlap=20)\n",
    "    text_chunks = text_splitter.split_documents(extracted_data)\n",
    "    return text_chunks"
   ]
  },
  {
   "cell_type": "code",
   "execution_count": 9,
   "id": "066bf298",
   "metadata": {},
   "outputs": [
    {
     "name": "stdout",
     "output_type": "stream",
     "text": [
      "Length of Text Chunks 5859\n"
     ]
    }
   ],
   "source": [
    "text_chunks = text_split(extracted_data)\n",
    "print(\"Length of Text Chunks\", len(text_chunks))"
   ]
  },
  {
   "cell_type": "code",
   "execution_count": 10,
   "id": "fa5630bb",
   "metadata": {},
   "outputs": [],
   "source": [
    "#text_chunks"
   ]
  },
  {
   "cell_type": "code",
   "execution_count": 21,
   "id": "93847c7e",
   "metadata": {},
   "outputs": [],
   "source": [
    "from langchain.embeddings import HuggingFaceEmbeddings"
   ]
  },
  {
   "cell_type": "code",
   "execution_count": 24,
   "id": "508d5431",
   "metadata": {},
   "outputs": [],
   "source": [
    "# download huggingface embedding model\n",
    "\n",
    "def download_hugging_face_embeddings():\n",
    "    embeddings = HuggingFaceEmbeddings(model_name = 'all-MiniLM-L6-v2')\n",
    "    return embeddings"
   ]
  },
  {
   "cell_type": "code",
   "execution_count": 25,
   "id": "30fbc5a5",
   "metadata": {},
   "outputs": [],
   "source": [
    "embeddings = download_hugging_face_embeddings()"
   ]
  },
  {
   "cell_type": "code",
   "execution_count": 26,
   "id": "d55c9820",
   "metadata": {},
   "outputs": [
    {
     "name": "stdout",
     "output_type": "stream",
     "text": [
      "Length 384\n"
     ]
    }
   ],
   "source": [
    "query_result = embeddings.embed_query(\"Hello world\")\n",
    "print(\"Length\",len(query_result))"
   ]
  },
  {
   "cell_type": "code",
   "execution_count": 143,
   "id": "72a1c439",
   "metadata": {},
   "outputs": [],
   "source": [
    "import os\n",
    "from dotenv import load_dotenv\n",
    "load_dotenv()\n",
    "\n",
    "PINECONE_API_KEY = os.environ.get('PINECONE_API_KEY')\n",
    "GROQ_API_KEY  = os.environ.get('GROQ_API_KEY')\n",
    "\n"
   ]
  },
  {
   "cell_type": "code",
   "execution_count": 144,
   "id": "8afb7f0e",
   "metadata": {},
   "outputs": [],
   "source": [
    "from pinecone import Pinecone\n",
    "\n",
    "pc = Pinecone(api_key= PINECONE_API_KEY)\n",
    "index = pc.Index(\"medbot\")"
   ]
  },
  {
   "cell_type": "code",
   "execution_count": 145,
   "id": "5b2ba9cd",
   "metadata": {},
   "outputs": [],
   "source": [
    "import os \n",
    "os.environ['PINECONE_API_KEY'] = PINECONE_API_KEY"
   ]
  },
  {
   "cell_type": "code",
   "execution_count": 147,
   "id": "735f41d0",
   "metadata": {},
   "outputs": [],
   "source": [
    "#embed each chunk and upsert the embeddings into your pinecone index\n",
    "from langchain_pinecone import PineconeVectorStore\n",
    "\n",
    "docsearch = PineconeVectorStore.from_documents(\n",
    "    documents = text_chunks,\n",
    "    index_name = \"medbot\",\n",
    "    embedding = embeddings,\n",
    ")\n"
   ]
  },
  {
   "cell_type": "code",
   "execution_count": null,
   "id": "3d384c60",
   "metadata": {},
   "outputs": [],
   "source": []
  },
  {
   "cell_type": "code",
   "execution_count": 148,
   "id": "d22fd984",
   "metadata": {},
   "outputs": [],
   "source": [
    "#load existing index\n",
    "\n",
    "from langchain_pinecone import PineconeVectorStore\n",
    "\n",
    "docsearch = PineconeVectorStore.from_existing_index(\n",
    "    index_name = \"medbot\",\n",
    "    embedding = embeddings,\n",
    "    \n",
    ")"
   ]
  },
  {
   "cell_type": "code",
   "execution_count": 149,
   "id": "96673074",
   "metadata": {},
   "outputs": [
    {
     "data": {
      "text/plain": [
       "<langchain_pinecone.vectorstores.PineconeVectorStore at 0x28d33ab1510>"
      ]
     },
     "execution_count": 149,
     "metadata": {},
     "output_type": "execute_result"
    }
   ],
   "source": [
    "docsearch"
   ]
  },
  {
   "cell_type": "code",
   "execution_count": 150,
   "id": "38353ec5",
   "metadata": {},
   "outputs": [],
   "source": [
    "retriever = docsearch.as_retriever(search_type= 'similarity', search_kwargs={'k':3})"
   ]
  },
  {
   "cell_type": "code",
   "execution_count": 151,
   "id": "55ca32bd",
   "metadata": {},
   "outputs": [],
   "source": [
    "retrieved_docs = retriever.invoke(\"i have severe acne\")  # or however you're doing retrieval\n"
   ]
  },
  {
   "cell_type": "code",
   "execution_count": 152,
   "id": "c2ff6008",
   "metadata": {},
   "outputs": [],
   "source": [
    "from langchain_groq import ChatGroq\n",
    "from langchain.chains import LLMChain\n",
    "from langchain.prompts import PromptTemplate\n",
    "llm = ChatGroq(\n",
    "    temperature = 0.4, \n",
    "    max_tokens  = 500,\n",
    "    groq_api_key = GROQ_API_KEY,\n",
    "    model_name = \"llama3-70b-8192\"\n",
    "    )"
   ]
  },
  {
   "cell_type": "code",
   "execution_count": 166,
   "id": "3389d96f",
   "metadata": {},
   "outputs": [],
   "source": [
    "from langchain.chains import create_retrieval_chain\n",
    "from langchain.chains.combine_documents import create_stuff_documents_chain\n",
    "from langchain_core.prompts import ChatPromptTemplate\n",
    "\n",
    "system_prompt = (\n",
    "   \"You are MedBot, an advanced AI vernacular diagnostic assistant for medical information. Your goal is to provide accurate, evidence-based medical insights while ensuring accessibility.\\n\\nInstructions:\\nRely only on the context given and on validated medical literature, including guidelines from WHO, ICMR, papers, and other authoritative sources. Do not answer any question that is not relevant or provided in the given context—simply say \"\n",
    "   \"I am sorry. I can't assist you with this query, do you have any health related questions?\"\n",
    "   \"\\n DO NOT PROVIDE A DIAGNOSIS. Instead, list probable causes (if not, then give reassurance), offer risk factors and next steps.\\nRespond in English, ensuring medical jargon is explained in simple terms. If language is not specified, default to English with simple explanations.\\nEnsure responses are empathic, non-alarming and supportive. If symptoms indicate urgency, recommend immediate medical consultation. Avoid providing prescriptions or treatment plans unless sourced from standard guidelines.\\nREMINDER: You are an AI assistant, not a certified medical professional. Always encourage users to seek expert medical advice.\\nPLUS: BE NON-ALARMING TO NOT INDUCE PANIC AMONG USERS. Be calm and supportive while keeping urgency intact.\\nBased on symptom severity, assign a Triage Severity Score (TSS) with color to guide users:\\n🟢 TSS-1 (Mild): Common symptoms, likely self-resolvable (e.g., mild headache, slight cold). Suggest home care.\\n🟡 TSS-2 (Moderate): Persistent or discomforting symptoms (e.g., high fever, prolonged cough). Recommend medical advice if symptoms persist.\\n🟠 TSS-3 (Serious): Potentially urgent (e.g., severe pain, difficulty breathing). Strongly urge immediate consultation.\\n🔴 TSS-4 (Critical): Emergency symptoms (e.g., chest pain, unconsciousness). Instruct immediate emergency care.\\n\\nKey Adjustments for a Non-Alarming Tone:\\nReduce direct alarm triggers like “requires immediate attention” → Reword to “should be checked by a doctor as soon as possible.”\\nUse softer phrasing for medical conditions → Instead of listing serious causes first, balance with “These symptoms can have different causes, some more serious than others.”\\nMaintain firm but calm recommendations → “It's best to seek emergency care” instead of “crucial to seek emergency medical attention immediately.”\\nEncourage staying calm with reassurance → Instead of “Do not drive yourself,” say “If possible, have someone assist you.”\"\n",
    "    \"{context}\"\n",
    ")\n",
    "\n",
    "prompt = ChatPromptTemplate.from_messages(\n",
    "    [\n",
    "        (\"system\", system_prompt),\n",
    "        (\"human\",\"{input}\"),\n",
    "        \n",
    "    ]\n",
    ")"
   ]
  },
  {
   "cell_type": "code",
   "execution_count": 167,
   "id": "6b892103",
   "metadata": {},
   "outputs": [],
   "source": [
    "question_answer_chain = create_stuff_documents_chain(llm, prompt)\n",
    "rag_chain = create_retrieval_chain(retriever, question_answer_chain)"
   ]
  },
  {
   "cell_type": "code",
   "execution_count": 169,
   "id": "3c7f6253",
   "metadata": {},
   "outputs": [
    {
     "name": "stdout",
     "output_type": "stream",
     "text": [
      "I'm here to help you with your health-related questions!\n",
      "\n",
      "Elephantiasis, also known as lymphatic filariasis, is a chronic and debilitating disease caused by parasitic worms, specifically three species of filarial worms: Wuchereria bancrofti, Brugia malayi, and Brugia timori. These worms are transmitted to humans through the bites of infected mosquitoes.\n",
      "\n",
      "The symptoms of elephantiasis can vary, but they often include:\n",
      "\n",
      "1. Swelling: Enlargement of limbs, usually the legs, arms, or genitals, which can lead to disfigurement.\n",
      "2. Skin thickening: Thickening of the skin, making it rough and hard.\n",
      "3. Pain: Pain or discomfort in the affected areas.\n",
      "4. Fever: Recurring fever, which can be mild or severe.\n",
      "\n",
      "In severe cases, the disease can lead to:\n",
      "\n",
      "1. Hydrocele: Fluid accumulation in the scrotum, causing swelling.\n",
      "2. Lymphedema: Swelling of the limbs due to lymphatic system damage.\n",
      "\n",
      "Elephantiasis is usually diagnosed through a combination of physical examination, medical history, and laboratory tests, such as blood tests and ultrasound.\n",
      "\n",
      "The good news is that elephantiasis is treatable, and the World Health Organization (WHO) has been working to control and eliminate the disease globally. Treatment typically involves medication to kill the parasites and manage symptoms. In some cases, surgery may be necessary to remove affected tissues.\n",
      "\n",
      "**Triage Severity Score (TSS): 🟡 TSS-2 (Moderate)\n",
      "\n",
      "If you suspect you or someone else might have elephantiasis, it's essential to consult a healthcare professional as soon as possible. Don't hesitate to reach out if you have any further questions or concerns!\n"
     ]
    }
   ],
   "source": [
    "response = rag_chain.invoke({\n",
    "    \"input\":\"what is your Elephantitis\",\n",
    "    \"language\": \"English\"\n",
    "    })\n",
    "print(response['answer'])\n",
    "\n"
   ]
  },
  {
   "cell_type": "code",
   "execution_count": null,
   "id": "0b69e785",
   "metadata": {},
   "outputs": [],
   "source": []
  },
  {
   "cell_type": "code",
   "execution_count": null,
   "id": "a70b74ab",
   "metadata": {},
   "outputs": [],
   "source": []
  }
 ],
 "metadata": {
  "kernelspec": {
   "display_name": "Python (env)",
   "language": "python",
   "name": "env"
  },
  "language_info": {
   "codemirror_mode": {
    "name": "ipython",
    "version": 3
   },
   "file_extension": ".py",
   "mimetype": "text/x-python",
   "name": "python",
   "nbconvert_exporter": "python",
   "pygments_lexer": "ipython3",
   "version": "3.10.0"
  }
 },
 "nbformat": 4,
 "nbformat_minor": 5
}
